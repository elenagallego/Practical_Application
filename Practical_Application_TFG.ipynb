{
  "nbformat": 4,
  "nbformat_minor": 0,
  "metadata": {
    "colab": {
      "provenance": []
    },
    "kernelspec": {
      "name": "python3",
      "display_name": "Python 3"
    },
    "language_info": {
      "name": "python"
    }
  },
  "cells": [
    {
      "cell_type": "code",
      "execution_count": null,
      "metadata": {
        "id": "Epdin1LXrbpQ"
      },
      "outputs": [],
      "source": [
        "import math\n",
        "\n",
        "coefficients = {\n",
        "    'temporal': 0.138716,\n",
        "    'furnished': 0.191931,\n",
        "    'districtEnsanche': -0.003994,\n",
        "    'districtGracia': -0.180093,\n",
        "    'districtHorta-Guinardó': -0.288030,\n",
        "    'districtLes Corts': -0.040116,\n",
        "    'districtNou Barris': -0.289263,\n",
        "    'districtSan Andrés': -0.221670,\n",
        "    'districtSan Martín': -0.052977,\n",
        "    'districtSants-Montjuïc': -0.266281,\n",
        "    'districtSarriá-San Gervasiol': 0.035546,\n",
        "    'districtCiutat Vella': 0,\n",
        "    'bedrooms': -0.053861,\n",
        "    'bathrooms': 0.113848,\n",
        "    'ln_square_meters': 0.671119,\n",
        "    'elevator': 0.011591,\n",
        "    'balcony': 0.064604,\n",
        "    'heating': 0.025616,\n",
        "    'metro': -0.077306,\n",
        "    'energy_ratingsA': 0,\n",
        "    'energy_ratingsB': 0.027447,\n",
        "    'energy_ratingsC': -0.090921,\n",
        "    'energy_ratingsD': -0.122709,\n",
        "    'energy_ratingsE': -0.226045,\n",
        "    'energy_ratingsET': -0.150448,\n",
        "    'energy_ratingsF': -0.204047,\n",
        "    'energy_ratingsG': -0.230436,\n",
        "    'real_estate_agency': 0.082925\n",
        "}\n",
        "\n",
        "intercept = 4.438568\n",
        "\n",
        "def predict_price():\n",
        "    temporal = int(input(\"Is the housing temporal? (0 for long-term, 1 for short-term): \"))\n",
        "    furnished = int(input(\"Is it furnished? (0 for unfurnished, 1 for furnished): \"))\n",
        "\n",
        "    print(\"In which district is the housing?:\")\n",
        "    for key in coefficients:\n",
        "        if key.startswith('district'):\n",
        "            print(key[8:])\n",
        "\n",
        "    district = input(\"District: \")\n",
        "    bedrooms = int(input(\"Number of bedrooms of the housing: \"))\n",
        "    bathrooms = int(input(\"Number of bathrooms of the housing: \"))\n",
        "    square_meters = float(input(\"Square meters of the housing: \"))\n",
        "    elevator = int(input(\"Does the housing have an elevator? (0 for no, 1 for yes): \"))\n",
        "    balcony = int(input(\"Does the housing have a balcony? (0 for no, 1 for yes): \"))\n",
        "    heating = int(input(\"Does the housing have heating? (0 for no, 1 for yes): \"))\n",
        "    metro = int(input(\"Is there a Metro nearby the housing? (0 for no, 1 for yes): \"))\n",
        "    energy_rating = input(\"Which enery rating does the housing have? (A, B, C, D, E, F, G, ET): \")\n",
        "    real_estate_agency = int(input(\"Is the housing under a real state agency?(0 for no, 1 for yes): \"))\n",
        "\n",
        "    price = math.exp(\n",
        "        intercept +\n",
        "        coefficients['temporal'] * temporal +\n",
        "        coefficients['furnished'] * furnished +\n",
        "        coefficients['district' + district] +\n",
        "        coefficients['bedrooms'] * bedrooms +\n",
        "        coefficients['bathrooms'] * bathrooms +\n",
        "        coefficients['ln_square_meters'] * math.log(square_meters) +\n",
        "        coefficients['elevator'] * elevator +\n",
        "        coefficients['balcony'] * balcony +\n",
        "        coefficients['heating'] * heating +\n",
        "        coefficients['metro'] * metro +\n",
        "        coefficients['energy_ratings' + energy_rating] +\n",
        "        coefficients['real_estate_agency'] * real_estate_agency)\n",
        "    print(\"Estimated price: \", price)\n",
        "predict_price()\n"
      ]
    }
  ]
}